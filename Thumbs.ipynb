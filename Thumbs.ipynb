{
 "cells": [
  {
   "cell_type": "code",
   "execution_count": 1,
   "metadata": {},
   "outputs": [
    {
     "name": "stderr",
     "output_type": "stream",
     "text": [
      "Using TensorFlow backend.\n"
     ]
    }
   ],
   "source": [
    "import keras\n",
    "import os\n",
    "import shutil\n",
    "import numpy as np\n",
    "import matplotlib\n",
    "from keras import layers\n",
    "from keras import models\n",
    "from keras.preprocessing.image import ImageDataGenerator\n",
    "import cv2\n",
    "import tensorflow as tf\n",
    "import matplotlib.pyplot as plt"
   ]
  },
  {
   "cell_type": "code",
   "execution_count": 2,
   "metadata": {},
   "outputs": [],
   "source": [
    "# resim boyutu, epoch ve batch size değişkenleri\n",
    "img_width, img_height = 480, 640\n",
    "first_epochs = 5\n",
    "second_epochs = 30\n",
    "batch_size = 5\n",
    "train_samples=120\n",
    "validation_samples=40\n",
    "input_shape = (img_width, img_height, 3)"
   ]
  },
  {
   "cell_type": "code",
   "execution_count": 3,
   "metadata": {},
   "outputs": [],
   "source": [
    "# resim dosyalarının olduğu dizinler\n",
    "original_tu_path='c:\\\\Users\\Dell\\Desktop\\ThumbsUp\\ThumbsUp\\Tarık'\n",
    "original_td_path='c:\\\\Users\\Dell\\Desktop\\ThumbsUp\\ThumbsDown\\Tarık'\n",
    "\n",
    "# resim dosyalarının ayrılacağı dizinler için klasörleri oluşturuyoruz\n",
    "base_dataset_path='c:\\\\Users\\Dell\\Desktop\\dataset'\n",
    "os.makedirs(base_dataset_path,777)\n",
    "\n",
    "# train dizini\n",
    "train_path=os.path.join(base_dataset_path,'train')\n",
    "os.makedirs(train_path,777)\n",
    "\n",
    "# test dizini\n",
    "test_path=os.path.join(base_dataset_path,'test')\n",
    "os.makedirs(test_path,777)\n",
    "\n",
    "# validation dizini\n",
    "val_path=os.path.join(base_dataset_path,'val')\n",
    "os.makedirs(val_path,777)\n",
    "\n",
    "# thumbs down train dizini\n",
    "train_td_path=os.path.join(train_path,'thumbs_down')\n",
    "os.makedirs(train_td_path,777)\n",
    "\n",
    "# thumbs up train dizini\n",
    "train_tu_path=os.path.join(train_path,'thumbs_up')\n",
    "os.makedirs(train_tu_path,777)\n",
    "\n",
    "# thumbs down test dizini\n",
    "test_td_path=os.path.join(test_path,'thumbs_down')\n",
    "os.makedirs(test_td_path,777)\n",
    "\n",
    "# thumbs up test dizini\n",
    "test_tu_path=os.path.join(test_path,'thumbs_up')\n",
    "os.makedirs(test_tu_path,777)\n",
    "\n",
    "# thumbs down validation dizini\n",
    "val_td_path=os.path.join(val_path,'thumbs_down')\n",
    "os.makedirs(val_td_path,777)\n",
    "\n",
    "# thumbs up validation dizini\n",
    "val_tu_path=os.path.join(val_path,'thumbs_up')\n",
    "os.makedirs(val_tu_path,777)\n"
   ]
  },
  {
   "cell_type": "code",
   "execution_count": 4,
   "metadata": {},
   "outputs": [],
   "source": [
    "# dizinden tüm resimlerin pathlerini listeye alıp listeyi karıştırıyoruz \n",
    "tu_img_names=os.listdir(original_tu_path)\n",
    "np.random.shuffle(tu_img_names)\n",
    "\n",
    "td_img_names=os.listdir(original_td_path)\n",
    "np.random.shuffle(td_img_names) "
   ]
  },
  {
   "cell_type": "code",
   "execution_count": 5,
   "metadata": {},
   "outputs": [],
   "source": [
    "# veriyi parçalara ayırıp oluşturduğumuz dizinlere yerleştiriyoruz. Parçalama oranı 60train:20test:20validation\n",
    "\n",
    "for img_path in tu_img_names[:60]:\n",
    "    src = os.path.join(original_tu_path, img_path)\n",
    "    dst = os.path.join(train_tu_path, img_path)\n",
    "    shutil.copyfile(src,dst)\n",
    "\n",
    "for img_path in tu_img_names[60:80]:\n",
    "    src = os.path.join(original_tu_path, img_path)\n",
    "    dst = os.path.join(test_tu_path, img_path)\n",
    "    shutil.copyfile(src,dst)\n",
    "\n",
    "for img_path in tu_img_names[80:]:\n",
    "    src = os.path.join(original_tu_path, img_path)\n",
    "    dst = os.path.join(val_tu_path, img_path)\n",
    "    shutil.copyfile(src,dst)\n",
    "    \n",
    "for img_path in td_img_names[:60]:\n",
    "    src = os.path.join(original_td_path, img_path)\n",
    "    dst = os.path.join(train_td_path, img_path)\n",
    "    shutil.copyfile(src,dst)\n",
    "    \n",
    "for img_path in td_img_names[60:80]:\n",
    "    src = os.path.join(original_td_path, img_path)\n",
    "    dst = os.path.join(test_td_path, img_path)\n",
    "    shutil.copyfile(src,dst)\n",
    "    \n",
    "for img_path in td_img_names[80:]:\n",
    "    src = os.path.join(original_td_path, img_path)\n",
    "    dst = os.path.join(val_td_path, img_path)\n",
    "    shutil.copyfile(src,dst)"
   ]
  },
  {
   "cell_type": "code",
   "execution_count": 6,
   "metadata": {},
   "outputs": [],
   "source": [
    "# Modeli oluşturup katmanları ekliyoruz.\n",
    "\n",
    "model = models.Sequential()\n",
    "model.add(layers.Conv2D(16, (3, 3), activation='relu',\n",
    "                        input_shape = input_shape))\n",
    "model.add(layers.MaxPooling2D((2, 2)))\n",
    "model.add(layers.Conv2D(32, (3, 3), activation='relu'))\n",
    "model.add(layers.MaxPooling2D((2, 2)))\n",
    "\n",
    "model.add(layers.Conv2D(64, (3, 3), activation='relu'))\n",
    "model.add(layers.MaxPooling2D((2, 2)))\n",
    "\n",
    "model.add(layers.Conv2D(128, (3, 3), activation='relu'))\n",
    "model.add(layers.MaxPooling2D((2, 2)))\n",
    "\n",
    "model.add(layers.Conv2D(256, (3, 3), activation='relu'))\n",
    "model.add(layers.MaxPooling2D((2, 2)))\n",
    "\n",
    "model.add(layers.Conv2D(512, (3, 3), activation='relu'))\n",
    "model.add(layers.MaxPooling2D((2, 2)))\n",
    "\n",
    "model.add(layers.Flatten())\n",
    "model.add(layers.Dense(512, activation='relu'))\n",
    "model.add(layers.Dense(1, activation='sigmoid'))"
   ]
  },
  {
   "cell_type": "code",
   "execution_count": 7,
   "metadata": {},
   "outputs": [],
   "source": [
    "# iki sınıf olduğu için binary loss fonksiyonu seçiyoruz.\n",
    "from keras import optimizers\n",
    "\n",
    "model.compile(loss='binary_crossentropy',\n",
    "              optimizer=optimizers.RMSprop(lr=0.0001),\n",
    "              metrics=['acc'])"
   ]
  },
  {
   "cell_type": "code",
   "execution_count": 8,
   "metadata": {},
   "outputs": [
    {
     "name": "stdout",
     "output_type": "stream",
     "text": [
      "_________________________________________________________________\n",
      "Layer (type)                 Output Shape              Param #   \n",
      "=================================================================\n",
      "conv2d_1 (Conv2D)            (None, 478, 638, 16)      448       \n",
      "_________________________________________________________________\n",
      "max_pooling2d_1 (MaxPooling2 (None, 239, 319, 16)      0         \n",
      "_________________________________________________________________\n",
      "conv2d_2 (Conv2D)            (None, 237, 317, 32)      4640      \n",
      "_________________________________________________________________\n",
      "max_pooling2d_2 (MaxPooling2 (None, 118, 158, 32)      0         \n",
      "_________________________________________________________________\n",
      "conv2d_3 (Conv2D)            (None, 116, 156, 64)      18496     \n",
      "_________________________________________________________________\n",
      "max_pooling2d_3 (MaxPooling2 (None, 58, 78, 64)        0         \n",
      "_________________________________________________________________\n",
      "conv2d_4 (Conv2D)            (None, 56, 76, 128)       73856     \n",
      "_________________________________________________________________\n",
      "max_pooling2d_4 (MaxPooling2 (None, 28, 38, 128)       0         \n",
      "_________________________________________________________________\n",
      "conv2d_5 (Conv2D)            (None, 26, 36, 256)       295168    \n",
      "_________________________________________________________________\n",
      "max_pooling2d_5 (MaxPooling2 (None, 13, 18, 256)       0         \n",
      "_________________________________________________________________\n",
      "conv2d_6 (Conv2D)            (None, 11, 16, 512)       1180160   \n",
      "_________________________________________________________________\n",
      "max_pooling2d_6 (MaxPooling2 (None, 5, 8, 512)         0         \n",
      "_________________________________________________________________\n",
      "flatten_1 (Flatten)          (None, 20480)             0         \n",
      "_________________________________________________________________\n",
      "dense_1 (Dense)              (None, 512)               10486272  \n",
      "_________________________________________________________________\n",
      "dense_2 (Dense)              (None, 1)                 513       \n",
      "=================================================================\n",
      "Total params: 12,059,553\n",
      "Trainable params: 12,059,553\n",
      "Non-trainable params: 0\n",
      "_________________________________________________________________\n"
     ]
    }
   ],
   "source": [
    "# Her katmanda resim daha da küçülüp öznitelikleri anlaşılmaya çalışılıyor.\n",
    "model.summary()"
   ]
  },
  {
   "cell_type": "code",
   "execution_count": 9,
   "metadata": {},
   "outputs": [
    {
     "name": "stdout",
     "output_type": "stream",
     "text": [
      "Found 120 images belonging to 2 classes.\n",
      "Found 40 images belonging to 2 classes.\n"
     ]
    }
   ],
   "source": [
    "train_datagen = ImageDataGenerator(rescale=1./255)\n",
    "test_datagen = ImageDataGenerator(rescale=1./255)\n",
    "\n",
    "train_generator = train_datagen.flow_from_directory(\n",
    "        # This is the target directory\n",
    "        train_path,\n",
    "        target_size=(img_width, img_height),\n",
    "        batch_size=batch_size,\n",
    "        # Since we use binary_crossentropy loss, we need binary labels\n",
    "        class_mode='binary')\n",
    "\n",
    "validation_generator = test_datagen.flow_from_directory(\n",
    "        val_path,\n",
    "        target_size=(img_width, img_height),\n",
    "        batch_size=batch_size,\n",
    "        class_mode='binary')"
   ]
  },
  {
   "cell_type": "code",
   "execution_count": 10,
   "metadata": {},
   "outputs": [
    {
     "name": "stdout",
     "output_type": "stream",
     "text": [
      "data batch shape: (5, 480, 640, 3)\n",
      "labels batch shape: (5,)\n",
      "[1. 1. 1. 0. 0.]\n",
      "data batch shape: (5, 480, 640, 3)\n",
      "labels batch shape: (5,)\n",
      "[1. 0. 1. 1. 0.]\n"
     ]
    }
   ],
   "source": [
    "# generatorden gelen veriyi ve verinin sınıfları inceliyoruz. \n",
    "for data_batch, labels_batch in train_generator:\n",
    "    print('data batch shape:', data_batch.shape)\n",
    "    print('labels batch shape:', labels_batch.shape)\n",
    "    print(labels_batch)\n",
    "    break\n",
    "\n",
    "for data_batch, labels_batch in validation_generator:\n",
    "    print('data batch shape:', data_batch.shape)\n",
    "    print('labels batch shape:', labels_batch.shape)\n",
    "    print(labels_batch)\n",
    "    break\n",
    "    "
   ]
  },
  {
   "cell_type": "code",
   "execution_count": 11,
   "metadata": {},
   "outputs": [
    {
     "name": "stdout",
     "output_type": "stream",
     "text": [
      "Epoch 1/5\n",
      "100/100 [==============================] - 22s 216ms/step - loss: 0.3620 - acc: 0.8420 - val_loss: 0.0748 - val_acc: 0.9760\n",
      "Epoch 2/5\n",
      "100/100 [==============================] - 16s 161ms/step - loss: 0.0930 - acc: 0.9660 - val_loss: 0.2054 - val_acc: 0.9200\n",
      "Epoch 3/5\n",
      "100/100 [==============================] - 16s 164ms/step - loss: 0.0308 - acc: 0.9940 - val_loss: 0.1608 - val_acc: 0.9560\n",
      "Epoch 4/5\n",
      "100/100 [==============================] - 16s 165ms/step - loss: 0.0257 - acc: 0.9920 - val_loss: 1.9843 - val_acc: 0.7720\n",
      "Epoch 5/5\n",
      "100/100 [==============================] - 16s 163ms/step - loss: 0.0189 - acc: 0.9920 - val_loss: 0.1123 - val_acc: 0.9760\n"
     ]
    }
   ],
   "source": [
    "# modeli eğitiyoruz. epoch adımını örnek sayımıza göre seçiyoruz.\n",
    "history = model.fit_generator(train_generator, \n",
    "    steps_per_epoch = 100,\n",
    "    epochs = first_epochs,\n",
    "    validation_data = validation_generator, \n",
    "    validation_steps = 50)"
   ]
  },
  {
   "cell_type": "code",
   "execution_count": 12,
   "metadata": {},
   "outputs": [],
   "source": [
    "# modeli diskimize kaydediyoruz\n",
    "model.save('thumbs_11.h5')"
   ]
  },
  {
   "cell_type": "code",
   "execution_count": 13,
   "metadata": {},
   "outputs": [
    {
     "name": "stdout",
     "output_type": "stream",
     "text": [
      "accuracy : [0.842000005543232, 0.9660000020265579, 0.9940000003576279, 0.9920000004768371, 0.9920000004768371] \n",
      "validation accuracy : [0.9760000014305115, 0.9200000047683716, 0.9560000026226043, 0.7720000123977662, 0.9760000014305115] \n",
      "loss : [0.36203148402739316, 0.09300915970350615, 0.030756834265749548, 0.025703734807997307, 0.01886649495439542] \n",
      "validation loss : [0.07478764217346906, 0.20540286760122398, 0.16079270285696112, 1.9843331698713387, 0.11229616117365694]\n"
     ]
    }
   ],
   "source": [
    "# modelimizin metriklerini inceliyoruz.\n",
    "acc = history.history['acc']\n",
    "val_acc = history.history['val_acc']\n",
    "loss = history.history['loss']\n",
    "val_loss = history.history['val_loss']\n",
    "print('accuracy :',acc,'\\nvalidation accuracy :',\n",
    "      val_acc,'\\nloss :',loss,'\\nvalidation loss :',val_loss)"
   ]
  },
  {
   "cell_type": "code",
   "execution_count": 14,
   "metadata": {},
   "outputs": [],
   "source": [
    "CATEGORIES=['thumbs_down','thumbs_up']\n",
    "# bu fonksiyon gelen resmi kullanıma hazır hale getiriyor(genelde test için kullanıyorum)\n",
    "def prepare_img(path):\n",
    "    img_array=cv2.imread(path)\n",
    "    new_array=cv2.resize(img_array,(480,640))\n",
    "    return new_array.reshape(-1,480,640,3)\n",
    "\n",
    "# diske kaydettiğim modeli yüklüyorum\n",
    "model2=tf.keras.models.load_model('thumbs_11.h5')"
   ]
  },
  {
   "cell_type": "code",
   "execution_count": 15,
   "metadata": {},
   "outputs": [],
   "source": [
    "# modelime tahmin yaptırıyorum\n",
    "predictions = []\n",
    "for img in os.listdir(test_td_path):\n",
    "    img=prepare_img(test_td_path+'\\\\'+img)\n",
    "    predictions.append([model2.predict(img),0])\n",
    "for img in os.listdir(test_tu_path):\n",
    "    img = prepare_img(test_tu_path+('\\\\')+img)\n",
    "    predictions.append([model2.predict(img),1])"
   ]
  },
  {
   "cell_type": "code",
   "execution_count": 16,
   "metadata": {},
   "outputs": [
    {
     "name": "stdout",
     "output_type": "stream",
     "text": [
      "thumbs_down  X  thumbs_down\n",
      "thumbs_down  X  thumbs_down\n",
      "thumbs_down  X  thumbs_down\n",
      "thumbs_down  X  thumbs_down\n",
      "thumbs_down  X  thumbs_down\n",
      "thumbs_down  X  thumbs_down\n",
      "thumbs_down  X  thumbs_down\n",
      "thumbs_down  X  thumbs_down\n",
      "thumbs_down  X  thumbs_down\n",
      "thumbs_down  X  thumbs_down\n",
      "thumbs_down  X  thumbs_down\n",
      "thumbs_down  X  thumbs_down\n",
      "thumbs_up  X  thumbs_down\n",
      "thumbs_down  X  thumbs_down\n",
      "thumbs_down  X  thumbs_down\n",
      "thumbs_down  X  thumbs_down\n",
      "thumbs_down  X  thumbs_down\n",
      "thumbs_down  X  thumbs_down\n",
      "thumbs_down  X  thumbs_down\n",
      "thumbs_down  X  thumbs_down\n",
      "thumbs_up  X  thumbs_up\n",
      "thumbs_down  X  thumbs_up\n",
      "thumbs_down  X  thumbs_up\n",
      "thumbs_down  X  thumbs_up\n",
      "thumbs_down  X  thumbs_up\n",
      "thumbs_down  X  thumbs_up\n",
      "thumbs_up  X  thumbs_up\n",
      "thumbs_up  X  thumbs_up\n",
      "thumbs_up  X  thumbs_up\n",
      "thumbs_up  X  thumbs_up\n",
      "thumbs_up  X  thumbs_up\n",
      "thumbs_down  X  thumbs_up\n",
      "thumbs_down  X  thumbs_up\n",
      "thumbs_up  X  thumbs_up\n",
      "thumbs_up  X  thumbs_up\n",
      "thumbs_up  X  thumbs_up\n",
      "thumbs_down  X  thumbs_up\n",
      "thumbs_down  X  thumbs_up\n",
      "thumbs_up  X  thumbs_up\n",
      "thumbs_up  X  thumbs_up\n",
      "%  75.0\n"
     ]
    }
   ],
   "source": [
    "accuracy=0\n",
    "# Yüzdelik tahmin başarısını ve tahminlerle gerçek değerleri ekrana yazdırıyorum. \n",
    "for i,x in enumerate(predictions):\n",
    "    print(CATEGORIES[int(x[0])],' X ',CATEGORIES[x[1]])\n",
    "    if(int(x[0])==x[1]):\n",
    "        accuracy+=1\n",
    "\n",
    "accuracy=accuracy/len(predictions)\n",
    "print('% ',accuracy*100)"
   ]
  },
  {
   "cell_type": "code",
   "execution_count": 17,
   "metadata": {},
   "outputs": [
    {
     "data": {
      "image/png": "[encoded data removed]",
      "text/plain": [
       "<Figure size 432x288 with 1 Axes>"
      ]
     },
     "metadata": {
      "needs_background": "light"
     },
     "output_type": "display_data"
    },
    {
     "data": {
      "image/png": "[encoded data removed]",
      "text/plain": [
       "<Figure size 432x288 with 1 Axes>"
      ]
     },
     "metadata": {
      "needs_background": "light"
     },
     "output_type": "display_data"
    }
   ],
   "source": [
    "# veriler az olduğu için validation verileri yanıltıcı olabiliyor.\n",
    "epochs = range(len(acc))\n",
    "\n",
    "plt.plot(epochs, acc, 'bo', label='Training acc')\n",
    "plt.plot(epochs, val_acc, 'b', label='Validation acc')\n",
    "plt.title('Training and validation accuracy')\n",
    "plt.legend()\n",
    "\n",
    "plt.figure()\n",
    "\n",
    "plt.plot(epochs, loss, 'bo', label='Training loss')\n",
    "plt.plot(epochs, val_loss, 'b', label='Validation loss')\n",
    "plt.title('Training and validation loss')\n",
    "plt.legend()\n",
    "\n",
    "plt.show()"
   ]
  },
  {
   "cell_type": "code",
   "execution_count": 18,
   "metadata": {},
   "outputs": [],
   "source": [
    "CATEGORIES=['thumbs_up','thumbs_down']\n",
    "# bu fonksiyon gelen resmi kullanıma hazır hale getiriyor(genelde test için kullanıyorum)\n",
    "def prepare_img(path):\n",
    "    img_array=cv2.imread(path)\n",
    "    new_array=cv2.resize(img_array,(480,640))\n",
    "    return new_array.reshape(-1,480,640,3)\n",
    "\n",
    "# diske kaydettiğim en başarılı modeli yüklüyorum\n",
    "model2=tf.keras.models.load_model('thumbs_1.h5')\n"
   ]
  },
  {
   "cell_type": "code",
   "execution_count": 19,
   "metadata": {},
   "outputs": [],
   "source": [
    "# test dizinindeki tüm resimleri listeye yüklüyorum.\n",
    "predictions = []\n",
    "for img in os.listdir(test_td_path):\n",
    "    img=prepare_img(test_td_path+'\\\\'+img)\n",
    "    predictions.append([model2.predict(img),0])\n",
    "for img in os.listdir(test_tu_path):\n",
    "    img = prepare_img(test_tu_path+('\\\\')+img)\n",
    "    predictions.append([model2.predict(img),1])"
   ]
  },
  {
   "cell_type": "code",
   "execution_count": 20,
   "metadata": {},
   "outputs": [
    {
     "name": "stdout",
     "output_type": "stream",
     "text": [
      "thumbs_up  X  thumbs_up\n",
      "thumbs_up  X  thumbs_up\n",
      "thumbs_up  X  thumbs_up\n",
      "thumbs_up  X  thumbs_up\n",
      "thumbs_up  X  thumbs_up\n",
      "thumbs_up  X  thumbs_up\n",
      "thumbs_up  X  thumbs_up\n",
      "thumbs_up  X  thumbs_up\n",
      "thumbs_up  X  thumbs_up\n",
      "thumbs_up  X  thumbs_up\n",
      "thumbs_up  X  thumbs_up\n",
      "thumbs_up  X  thumbs_up\n",
      "thumbs_up  X  thumbs_up\n",
      "thumbs_up  X  thumbs_up\n",
      "thumbs_up  X  thumbs_up\n",
      "thumbs_up  X  thumbs_up\n",
      "thumbs_up  X  thumbs_up\n",
      "thumbs_down  X  thumbs_up\n",
      "thumbs_down  X  thumbs_up\n",
      "thumbs_down  X  thumbs_up\n",
      "thumbs_down  X  thumbs_down\n",
      "thumbs_up  X  thumbs_down\n",
      "thumbs_up  X  thumbs_down\n",
      "thumbs_up  X  thumbs_down\n",
      "thumbs_down  X  thumbs_down\n",
      "thumbs_down  X  thumbs_down\n",
      "thumbs_down  X  thumbs_down\n",
      "thumbs_down  X  thumbs_down\n",
      "thumbs_down  X  thumbs_down\n",
      "thumbs_down  X  thumbs_down\n",
      "thumbs_down  X  thumbs_down\n",
      "thumbs_down  X  thumbs_down\n",
      "thumbs_down  X  thumbs_down\n",
      "thumbs_down  X  thumbs_down\n",
      "thumbs_up  X  thumbs_down\n",
      "thumbs_down  X  thumbs_down\n",
      "thumbs_down  X  thumbs_down\n",
      "thumbs_up  X  thumbs_down\n",
      "thumbs_down  X  thumbs_down\n",
      "thumbs_down  X  thumbs_down\n",
      "%  80.0\n"
     ]
    }
   ],
   "source": [
    "accuracy=0\n",
    "# model, yüklenmiş listedeki resimleri tahmin etmeye çalışıyor ve en sonda yüzdelik tahmin başarısını ekrana yazdırıyor. \n",
    "for i,x in enumerate(predictions):\n",
    "    print(CATEGORIES[int(x[0])],' X ',CATEGORIES[x[1]])\n",
    "    if(int(x[0])==x[1]):\n",
    "        accuracy+=1\n",
    "\n",
    "accuracy=accuracy/len(predictions)\n",
    "print('% ',accuracy*100)"
   ]
  },
  {
   "cell_type": "code",
   "execution_count": null,
   "metadata": {},
   "outputs": [],
   "source": [
    "# Bu model biraz şansa bağlı. Random şekilde karıştırıp random şekilde ayırıyorum ancak verisetim yetersiz geliyor.\n",
    "# Başarıyı arttırmak ve tutarlı bir model elde etmek için dropout ve data augmentation yollarına başvurmam gerekli."
   ]
  },
  {
   "cell_type": "code",
   "execution_count": 21,
   "metadata": {},
   "outputs": [],
   "source": [
    "# İkinci deneme\n",
    "\n",
    "model3=models.Sequential()\n",
    "\n",
    "model3.add(layers.Conv2D(16, (3, 3),input_shape=(img_width,img_height,3), activation='relu'))\n",
    "model3.add(layers.MaxPooling2D((2, 2)))\n",
    "\n",
    "model3.add(layers.Conv2D(32, (3, 3), activation='relu'))\n",
    "model3.add(layers.MaxPooling2D((2, 2)))\n",
    "\n",
    "model3.add(layers.Conv2D(64, (3, 3), activation='relu'))\n",
    "model3.add(layers.MaxPooling2D((2, 2)))\n",
    "\n",
    "model3.add(layers.Conv2D(128, (3, 3), activation='relu'))\n",
    "model3.add(layers.MaxPooling2D((2, 2)))\n",
    "\n",
    "model3.add(layers.Conv2D(256, (3, 3), activation='relu'))\n",
    "model3.add(layers.MaxPooling2D((2, 2)))\n",
    "\n",
    "model3.add(layers.Conv2D(512, (3, 3), activation='relu'))\n",
    "model3.add(layers.MaxPooling2D((2, 2)))\n",
    "\n",
    "model3.add(layers.Flatten())\n",
    "model3.add(layers.Dense(512, activation='relu'))\n",
    "model3.add(layers.Dense(1, activation='sigmoid'))"
   ]
  },
  {
   "cell_type": "code",
   "execution_count": 22,
   "metadata": {},
   "outputs": [],
   "source": [
    "from keras import optimizers\n",
    "model3.compile(loss='binary_crossentropy',\n",
    "              optimizer=optimizers.RMSprop(lr=0.0001),\n",
    "              metrics=['acc'])"
   ]
  },
  {
   "cell_type": "code",
   "execution_count": 23,
   "metadata": {},
   "outputs": [
    {
     "name": "stdout",
     "output_type": "stream",
     "text": [
      "_________________________________________________________________\n",
      "Layer (type)                 Output Shape              Param #   \n",
      "=================================================================\n",
      "conv2d_7 (Conv2D)            (None, 478, 638, 16)      448       \n",
      "_________________________________________________________________\n",
      "max_pooling2d_7 (MaxPooling2 (None, 239, 319, 16)      0         \n",
      "_________________________________________________________________\n",
      "conv2d_8 (Conv2D)            (None, 237, 317, 32)      4640      \n",
      "_________________________________________________________________\n",
      "max_pooling2d_8 (MaxPooling2 (None, 118, 158, 32)      0         \n",
      "_________________________________________________________________\n",
      "conv2d_9 (Conv2D)            (None, 116, 156, 64)      18496     \n",
      "_________________________________________________________________\n",
      "max_pooling2d_9 (MaxPooling2 (None, 58, 78, 64)        0         \n",
      "_________________________________________________________________\n",
      "conv2d_10 (Conv2D)           (None, 56, 76, 128)       73856     \n",
      "_________________________________________________________________\n",
      "max_pooling2d_10 (MaxPooling (None, 28, 38, 128)       0         \n",
      "_________________________________________________________________\n",
      "conv2d_11 (Conv2D)           (None, 26, 36, 256)       295168    \n",
      "_________________________________________________________________\n",
      "max_pooling2d_11 (MaxPooling (None, 13, 18, 256)       0         \n",
      "_________________________________________________________________\n",
      "conv2d_12 (Conv2D)           (None, 11, 16, 512)       1180160   \n",
      "_________________________________________________________________\n",
      "max_pooling2d_12 (MaxPooling (None, 5, 8, 512)         0         \n",
      "_________________________________________________________________\n",
      "flatten_2 (Flatten)          (None, 20480)             0         \n",
      "_________________________________________________________________\n",
      "dense_3 (Dense)              (None, 512)               10486272  \n",
      "_________________________________________________________________\n",
      "dense_4 (Dense)              (None, 1)                 513       \n",
      "=================================================================\n",
      "Total params: 12,059,553\n",
      "Trainable params: 12,059,553\n",
      "Non-trainable params: 0\n",
      "_________________________________________________________________\n"
     ]
    }
   ],
   "source": [
    "model3.summary()"
   ]
  },
  {
   "cell_type": "code",
   "execution_count": 24,
   "metadata": {},
   "outputs": [
    {
     "name": "stdout",
     "output_type": "stream",
     "text": [
      "Found 120 images belonging to 2 classes.\n",
      "Found 40 images belonging to 2 classes.\n"
     ]
    }
   ],
   "source": [
    "# train datasını zenginleştirme ayarları\n",
    "train_datagen = ImageDataGenerator(\n",
    "    rescale=1./255,\n",
    "    rotation_range=40,\n",
    "    width_shift_range=0.2,\n",
    "    height_shift_range=0.2,\n",
    "    shear_range=0.2,\n",
    "    zoom_range=0.2,\n",
    "    horizontal_flip=True,)\n",
    "\n",
    "val_datagen = ImageDataGenerator(rescale=1./255)\n",
    "\n",
    "train_generator = train_datagen.flow_from_directory(\n",
    "        train_path,\n",
    "        target_size=(img_width, img_height),\n",
    "        batch_size=batch_size,\n",
    "        # Since we use binary_crossentropy loss, we need binary labels\n",
    "        class_mode='binary')\n",
    "\n",
    "validation_generator = val_datagen.flow_from_directory(\n",
    "        val_path,\n",
    "        target_size=(img_width, img_height),\n",
    "        batch_size=batch_size,\n",
    "        class_mode='binary')\n"
   ]
  },
  {
   "cell_type": "code",
   "execution_count": 25,
   "metadata": {},
   "outputs": [
    {
     "name": "stdout",
     "output_type": "stream",
     "text": [
      "data batch shape: (5, 480, 640, 3)\n",
      "labels batch shape: (5,)\n",
      "[0. 0. 1. 0. 1.]\n",
      "data batch shape: (5, 480, 640, 3)\n",
      "labels batch shape: (5,)\n",
      "[0. 0. 1. 0. 1.]\n"
     ]
    }
   ],
   "source": [
    "for data_batch, labels_batch in train_generator:\n",
    "    print('data batch shape:', data_batch.shape)\n",
    "    print('labels batch shape:', labels_batch.shape)\n",
    "    print(labels_batch)\n",
    "    break\n",
    "\n",
    "for data_batch, labels_batch in validation_generator:\n",
    "    print('data batch shape:', data_batch.shape)\n",
    "    print('labels batch shape:', labels_batch.shape)\n",
    "    print(labels_batch)\n",
    "    break"
   ]
  },
  {
   "cell_type": "code",
   "execution_count": 26,
   "metadata": {},
   "outputs": [
    {
     "name": "stdout",
     "output_type": "stream",
     "text": [
      "Epoch 1/30\n",
      "50/50 [==============================] - 29s 584ms/step - loss: 0.6524 - acc: 0.6280 - val_loss: 0.4266 - val_acc: 0.8240\n",
      "Epoch 2/30\n",
      "50/50 [==============================] - 27s 535ms/step - loss: 0.4826 - acc: 0.7800 - val_loss: 0.2862 - val_acc: 0.9200\n",
      "Epoch 3/30\n",
      "50/50 [==============================] - 30s 593ms/step - loss: 0.3805 - acc: 0.8480 - val_loss: 0.3289 - val_acc: 0.8800\n",
      "Epoch 4/30\n",
      "50/50 [==============================] - 31s 615ms/step - loss: 0.3542 - acc: 0.8440 - val_loss: 0.2937 - val_acc: 0.8360\n",
      "Epoch 5/30\n",
      "50/50 [==============================] - 31s 625ms/step - loss: 0.2726 - acc: 0.9120 - val_loss: 0.2426 - val_acc: 0.8760\n",
      "Epoch 6/30\n",
      "50/50 [==============================] - 32s 641ms/step - loss: 0.2917 - acc: 0.8880 - val_loss: 0.2498 - val_acc: 0.8760\n",
      "Epoch 7/30\n",
      "50/50 [==============================] - 32s 648ms/step - loss: 0.2440 - acc: 0.9080 - val_loss: 0.1481 - val_acc: 0.9240\n",
      "Epoch 8/30\n",
      "50/50 [==============================] - 32s 646ms/step - loss: 0.2940 - acc: 0.8960 - val_loss: 0.1897 - val_acc: 0.8960\n",
      "Epoch 9/30\n",
      "50/50 [==============================] - 31s 622ms/step - loss: 0.2480 - acc: 0.9080 - val_loss: 0.1507 - val_acc: 0.9000\n",
      "Epoch 10/30\n",
      "50/50 [==============================] - 32s 641ms/step - loss: 0.2383 - acc: 0.9320 - val_loss: 0.1747 - val_acc: 0.9040\n",
      "Epoch 11/30\n",
      "50/50 [==============================] - 32s 647ms/step - loss: 0.2085 - acc: 0.9240 - val_loss: 0.1369 - val_acc: 0.9480\n",
      "Epoch 12/30\n",
      "50/50 [==============================] - 31s 623ms/step - loss: 0.2285 - acc: 0.9200 - val_loss: 0.3004 - val_acc: 0.8800\n",
      "Epoch 13/30\n",
      "50/50 [==============================] - 28s 554ms/step - loss: 0.2819 - acc: 0.9040 - val_loss: 0.1825 - val_acc: 0.9000\n",
      "Epoch 14/30\n",
      "50/50 [==============================] - 33s 656ms/step - loss: 0.2189 - acc: 0.9280 - val_loss: 0.1336 - val_acc: 0.9200\n",
      "Epoch 15/30\n",
      "50/50 [==============================] - 32s 639ms/step - loss: 0.2325 - acc: 0.9120 - val_loss: 0.1460 - val_acc: 0.9240\n",
      "Epoch 16/30\n",
      "50/50 [==============================] - 32s 643ms/step - loss: 0.2038 - acc: 0.9120 - val_loss: 0.0368 - val_acc: 1.0000\n",
      "Epoch 17/30\n",
      "50/50 [==============================] - 33s 650ms/step - loss: 0.1698 - acc: 0.9440 - val_loss: 0.1761 - val_acc: 0.9200\n",
      "Epoch 18/30\n",
      "50/50 [==============================] - 33s 652ms/step - loss: 0.2233 - acc: 0.9120 - val_loss: 0.0428 - val_acc: 1.0000\n",
      "Epoch 19/30\n",
      "50/50 [==============================] - 32s 632ms/step - loss: 0.1475 - acc: 0.9520 - val_loss: 0.0979 - val_acc: 0.9520\n",
      "Epoch 20/30\n",
      "50/50 [==============================] - 32s 646ms/step - loss: 0.1597 - acc: 0.9440 - val_loss: 0.1637 - val_acc: 0.9520\n",
      "Epoch 21/30\n",
      "50/50 [==============================] - 32s 639ms/step - loss: 0.1689 - acc: 0.9480 - val_loss: 0.0842 - val_acc: 0.9720\n",
      "Epoch 22/30\n",
      "50/50 [==============================] - 32s 643ms/step - loss: 0.2063 - acc: 0.9280 - val_loss: 0.0559 - val_acc: 1.0000\n",
      "Epoch 23/30\n",
      "50/50 [==============================] - 33s 651ms/step - loss: 0.1627 - acc: 0.9440 - val_loss: 0.0529 - val_acc: 0.9800\n",
      "Epoch 24/30\n",
      "50/50 [==============================] - 30s 595ms/step - loss: 0.1569 - acc: 0.9480 - val_loss: 0.0779 - val_acc: 0.9680\n",
      "Epoch 25/30\n",
      "50/50 [==============================] - 30s 610ms/step - loss: 0.1905 - acc: 0.9720 - val_loss: 0.5038 - val_acc: 0.8560\n",
      "Epoch 26/30\n",
      "50/50 [==============================] - 31s 619ms/step - loss: 0.1265 - acc: 0.9680 - val_loss: 0.0383 - val_acc: 1.0000\n",
      "Epoch 27/30\n",
      "50/50 [==============================] - 32s 650ms/step - loss: 0.1911 - acc: 0.9280 - val_loss: 0.0393 - val_acc: 1.0000\n",
      "Epoch 28/30\n",
      "50/50 [==============================] - 32s 648ms/step - loss: 0.1164 - acc: 0.9680 - val_loss: 0.0495 - val_acc: 0.9760\n",
      "Epoch 29/30\n",
      "50/50 [==============================] - 33s 651ms/step - loss: 0.1165 - acc: 0.9600 - val_loss: 0.0986 - val_acc: 0.9760\n",
      "Epoch 30/30\n",
      "50/50 [==============================] - 32s 650ms/step - loss: 0.1848 - acc: 0.9400 - val_loss: 0.1090 - val_acc: 0.9760\n"
     ]
    }
   ],
   "source": [
    "history = model3.fit_generator(\n",
    "      train_generator,\n",
    "      steps_per_epoch=50,\n",
    "      epochs=second_epochs,\n",
    "      validation_data=validation_generator,\n",
    "      validation_steps=50)"
   ]
  },
  {
   "cell_type": "code",
   "execution_count": 27,
   "metadata": {},
   "outputs": [],
   "source": [
    "model3.save('thumbs_2.h5')"
   ]
  },
  {
   "cell_type": "code",
   "execution_count": 28,
   "metadata": {},
   "outputs": [
    {
     "data": {
      "image/png": "[encoded data removed]",
      "text/plain": [
       "<Figure size 432x288 with 1 Axes>"
      ]
     },
     "metadata": {
      "needs_background": "light"
     },
     "output_type": "display_data"
    },
    {
     "data": {
      "image/png": "[encoded data removed]",
      "text/plain": [
       "<Figure size 432x288 with 1 Axes>"
      ]
     },
     "metadata": {
      "needs_background": "light"
     },
     "output_type": "display_data"
    }
   ],
   "source": [
    "acc = history.history['acc']\n",
    "val_acc = history.history['val_acc']\n",
    "loss = history.history['loss']\n",
    "val_loss = history.history['val_loss']\n",
    "\n",
    "epochs = range(len(acc))\n",
    "\n",
    "plt.plot(epochs, acc, 'bo', label='Training acc')\n",
    "plt.plot(epochs, val_acc, 'b', label='Validation acc')\n",
    "plt.title('Training and validation accuracy')\n",
    "plt.legend()\n",
    "\n",
    "plt.figure()\n",
    "\n",
    "plt.plot(epochs, loss, 'bo', label='Training loss')\n",
    "plt.plot(epochs, val_loss, 'b', label='Validation loss')\n",
    "plt.title('Training and validation loss')\n",
    "plt.legend()\n",
    "\n",
    "plt.show()"
   ]
  },
  {
   "cell_type": "code",
   "execution_count": 30,
   "metadata": {},
   "outputs": [],
   "source": [
    "# Üçüncü denemede bu sefer dropout ekliyoruz\n",
    "\n",
    "model4=models.Sequential()\n",
    "\n",
    "model4.add(layers.Conv2D(16, (3, 3),input_shape=(img_width,img_height,3), activation='relu'))\n",
    "model4.add(layers.MaxPooling2D((2, 2)))\n",
    "model4.add(layers.Dropout(0.1))\n",
    "\n",
    "model4.add(layers.Conv2D(32, (3, 3), activation='relu'))\n",
    "model4.add(layers.MaxPooling2D((2, 2)))\n",
    "model4.add(layers.Dropout(0.1))\n",
    "\n",
    "model4.add(layers.Conv2D(64, (3, 3), activation='relu'))\n",
    "model4.add(layers.MaxPooling2D((2, 2)))\n",
    "\n",
    "model4.add(layers.Conv2D(128, (3, 3), activation='relu'))\n",
    "model4.add(layers.MaxPooling2D((2, 2)))\n",
    "\n",
    "model4.add(layers.Conv2D(256, (3, 3), activation='relu'))\n",
    "model4.add(layers.MaxPooling2D((2, 2)))\n",
    "model4.add(layers.Dropout(0.2))\n",
    "\n",
    "model4.add(layers.Conv2D(512, (3, 3), activation='relu'))\n",
    "model4.add(layers.MaxPooling2D((2, 2)))\n",
    "\n",
    "model4.add(layers.Flatten())\n",
    "model4.add(layers.Dense(512, activation='relu'))\n",
    "model4.add(layers.Dense(1, activation='sigmoid'))"
   ]
  },
  {
   "cell_type": "code",
   "execution_count": 32,
   "metadata": {},
   "outputs": [],
   "source": [
    "model4.compile(loss='binary_crossentropy',\n",
    "              optimizer=optimizers.RMSprop(lr=0.0001),\n",
    "              metrics=['acc'])"
   ]
  },
  {
   "cell_type": "code",
   "execution_count": 33,
   "metadata": {},
   "outputs": [
    {
     "name": "stdout",
     "output_type": "stream",
     "text": [
      "_________________________________________________________________\n",
      "Layer (type)                 Output Shape              Param #   \n",
      "=================================================================\n",
      "conv2d_13 (Conv2D)           (None, 478, 638, 16)      448       \n",
      "_________________________________________________________________\n",
      "max_pooling2d_13 (MaxPooling (None, 239, 319, 16)      0         \n",
      "_________________________________________________________________\n",
      "dropout_1 (Dropout)          (None, 239, 319, 16)      0         \n",
      "_________________________________________________________________\n",
      "conv2d_14 (Conv2D)           (None, 237, 317, 32)      4640      \n",
      "_________________________________________________________________\n",
      "max_pooling2d_14 (MaxPooling (None, 118, 158, 32)      0         \n",
      "_________________________________________________________________\n",
      "dropout_2 (Dropout)          (None, 118, 158, 32)      0         \n",
      "_________________________________________________________________\n",
      "conv2d_15 (Conv2D)           (None, 116, 156, 64)      18496     \n",
      "_________________________________________________________________\n",
      "max_pooling2d_15 (MaxPooling (None, 58, 78, 64)        0         \n",
      "_________________________________________________________________\n",
      "conv2d_16 (Conv2D)           (None, 56, 76, 128)       73856     \n",
      "_________________________________________________________________\n",
      "max_pooling2d_16 (MaxPooling (None, 28, 38, 128)       0         \n",
      "_________________________________________________________________\n",
      "conv2d_17 (Conv2D)           (None, 26, 36, 256)       295168    \n",
      "_________________________________________________________________\n",
      "max_pooling2d_17 (MaxPooling (None, 13, 18, 256)       0         \n",
      "_________________________________________________________________\n",
      "dropout_3 (Dropout)          (None, 13, 18, 256)       0         \n",
      "_________________________________________________________________\n",
      "conv2d_18 (Conv2D)           (None, 11, 16, 512)       1180160   \n",
      "_________________________________________________________________\n",
      "max_pooling2d_18 (MaxPooling (None, 5, 8, 512)         0         \n",
      "_________________________________________________________________\n",
      "flatten_3 (Flatten)          (None, 20480)             0         \n",
      "_________________________________________________________________\n",
      "dense_5 (Dense)              (None, 512)               10486272  \n",
      "_________________________________________________________________\n",
      "dense_6 (Dense)              (None, 1)                 513       \n",
      "=================================================================\n",
      "Total params: 12,059,553\n",
      "Trainable params: 12,059,553\n",
      "Non-trainable params: 0\n",
      "_________________________________________________________________\n"
     ]
    }
   ],
   "source": [
    "model4.summary()"
   ]
  },
  {
   "cell_type": "code",
   "execution_count": 34,
   "metadata": {},
   "outputs": [
    {
     "name": "stdout",
     "output_type": "stream",
     "text": [
      "Epoch 1/30\n",
      "50/50 [==============================] - 32s 645ms/step - loss: 0.6767 - acc: 0.5680 - val_loss: 0.6202 - val_acc: 0.8000\n",
      "Epoch 2/30\n",
      "50/50 [==============================] - 28s 558ms/step - loss: 0.5228 - acc: 0.7600 - val_loss: 0.4504 - val_acc: 0.7800\n",
      "Epoch 3/30\n",
      "50/50 [==============================] - 32s 650ms/step - loss: 0.4994 - acc: 0.7680 - val_loss: 0.3623 - val_acc: 0.8960\n",
      "Epoch 4/30\n",
      "50/50 [==============================] - 32s 643ms/step - loss: 0.3886 - acc: 0.8480 - val_loss: 0.2790 - val_acc: 0.8960\n",
      "Epoch 5/30\n",
      "50/50 [==============================] - 28s 562ms/step - loss: 0.3622 - acc: 0.8600 - val_loss: 0.2556 - val_acc: 0.9280\n",
      "Epoch 6/30\n",
      "50/50 [==============================] - 31s 620ms/step - loss: 0.2947 - acc: 0.8520 - val_loss: 0.3000 - val_acc: 0.9040\n",
      "Epoch 7/30\n",
      "50/50 [==============================] - 31s 629ms/step - loss: 0.3001 - acc: 0.9000 - val_loss: 0.3061 - val_acc: 0.8920\n",
      "Epoch 8/30\n",
      "50/50 [==============================] - 30s 594ms/step - loss: 0.2610 - acc: 0.9080 - val_loss: 0.2409 - val_acc: 0.9040\n",
      "Epoch 9/30\n",
      "50/50 [==============================] - 31s 624ms/step - loss: 0.2864 - acc: 0.8920 - val_loss: 0.2426 - val_acc: 0.9000\n",
      "Epoch 10/30\n",
      "50/50 [==============================] - 31s 625ms/step - loss: 0.2262 - acc: 0.9280 - val_loss: 0.2381 - val_acc: 0.9200\n",
      "Epoch 11/30\n",
      "50/50 [==============================] - 31s 615ms/step - loss: 0.2350 - acc: 0.9120 - val_loss: 0.2682 - val_acc: 0.9480\n",
      "Epoch 12/30\n",
      "50/50 [==============================] - 31s 614ms/step - loss: 0.2211 - acc: 0.9280 - val_loss: 0.1570 - val_acc: 0.8760\n",
      "Epoch 13/30\n",
      "50/50 [==============================] - 31s 628ms/step - loss: 0.2524 - acc: 0.9000 - val_loss: 0.2435 - val_acc: 0.8520\n",
      "Epoch 14/30\n",
      "50/50 [==============================] - 31s 625ms/step - loss: 0.2585 - acc: 0.8960 - val_loss: 0.2311 - val_acc: 0.8760\n",
      "Epoch 15/30\n",
      "50/50 [==============================] - 31s 611ms/step - loss: 0.1864 - acc: 0.9280 - val_loss: 0.3166 - val_acc: 0.9120\n",
      "Epoch 16/30\n",
      "50/50 [==============================] - 30s 610ms/step - loss: 0.2040 - acc: 0.9240 - val_loss: 0.3283 - val_acc: 0.8400\n",
      "Epoch 17/30\n",
      "50/50 [==============================] - 31s 625ms/step - loss: 0.1951 - acc: 0.9240 - val_loss: 0.2714 - val_acc: 0.9040\n",
      "Epoch 18/30\n",
      "50/50 [==============================] - 31s 628ms/step - loss: 0.2350 - acc: 0.9120 - val_loss: 0.4372 - val_acc: 0.8400\n",
      "Epoch 19/30\n",
      "50/50 [==============================] - 30s 609ms/step - loss: 0.1797 - acc: 0.9160 - val_loss: 0.2797 - val_acc: 0.9000\n",
      "Epoch 20/30\n",
      "50/50 [==============================] - 31s 625ms/step - loss: 0.1910 - acc: 0.9600 - val_loss: 0.1215 - val_acc: 0.9280\n",
      "Epoch 21/30\n",
      "50/50 [==============================] - 31s 623ms/step - loss: 0.1867 - acc: 0.9440 - val_loss: 0.1678 - val_acc: 0.9040\n",
      "Epoch 22/30\n",
      "50/50 [==============================] - 31s 615ms/step - loss: 0.2086 - acc: 0.9360 - val_loss: 0.1093 - val_acc: 0.9760\n",
      "Epoch 23/30\n",
      "50/50 [==============================] - 31s 616ms/step - loss: 0.1759 - acc: 0.9320 - val_loss: 0.1799 - val_acc: 0.9440\n",
      "Epoch 24/30\n",
      "50/50 [==============================] - 31s 621ms/step - loss: 0.1528 - acc: 0.9400 - val_loss: 0.0791 - val_acc: 0.9800\n",
      "Epoch 25/30\n",
      "50/50 [==============================] - 30s 606ms/step - loss: 0.1577 - acc: 0.9440 - val_loss: 0.1330 - val_acc: 0.9720\n",
      "Epoch 26/30\n",
      "50/50 [==============================] - 31s 614ms/step - loss: 0.1376 - acc: 0.9560 - val_loss: 0.1590 - val_acc: 0.9240\n",
      "Epoch 27/30\n",
      "50/50 [==============================] - 31s 620ms/step - loss: 0.1731 - acc: 0.9400 - val_loss: 0.1476 - val_acc: 0.9280\n",
      "Epoch 28/30\n",
      "50/50 [==============================] - 31s 620ms/step - loss: 0.1766 - acc: 0.9400 - val_loss: 0.1698 - val_acc: 0.9520\n",
      "Epoch 29/30\n",
      "50/50 [==============================] - 31s 623ms/step - loss: 0.0999 - acc: 0.9560 - val_loss: 0.0903 - val_acc: 0.9760\n",
      "Epoch 30/30\n",
      "50/50 [==============================] - 31s 627ms/step - loss: 0.1650 - acc: 0.9520 - val_loss: 0.1373 - val_acc: 0.9240\n"
     ]
    }
   ],
   "source": [
    "history = model4.fit_generator(\n",
    "      train_generator,\n",
    "      steps_per_epoch=50,\n",
    "      epochs=second_epochs,\n",
    "      validation_data=validation_generator,\n",
    "      validation_steps=50)"
   ]
  },
  {
   "cell_type": "code",
   "execution_count": 35,
   "metadata": {},
   "outputs": [
    {
     "data": {
      "image/png": "[encoded data removed]",
      "text/plain": [
       "<Figure size 432x288 with 1 Axes>"
      ]
     },
     "metadata": {
      "needs_background": "light"
     },
     "output_type": "display_data"
    },
    {
     "data": {
      "image/png": "[encoded data removed]",
      "text/plain": [
       "<Figure size 432x288 with 1 Axes>"
      ]
     },
     "metadata": {
      "needs_background": "light"
     },
     "output_type": "display_data"
    }
   ],
   "source": [
    "acc = history.history['acc']\n",
    "val_acc = history.history['val_acc']\n",
    "loss = history.history['loss']\n",
    "val_loss = history.history['val_loss']\n",
    "\n",
    "epochs = range(len(acc))\n",
    "\n",
    "plt.plot(epochs, acc, 'bo', label='Training acc')\n",
    "plt.plot(epochs, val_acc, 'b', label='Validation acc')\n",
    "plt.title('Training and validation accuracy')\n",
    "plt.legend()\n",
    "\n",
    "plt.figure()\n",
    "\n",
    "plt.plot(epochs, loss, 'bo', label='Training loss')\n",
    "plt.plot(epochs, val_loss, 'b', label='Validation loss')\n",
    "plt.title('Training and validation loss')\n",
    "plt.legend()\n",
    "\n",
    "plt.show()"
   ]
  },
  {
   "cell_type": "code",
   "execution_count": 38,
   "metadata": {},
   "outputs": [],
   "source": [
    "# Dördüncü denemede bu sefer ağırlık regülasyonu yaptırıyoruz\n",
    "\n",
    "from keras.regularizers import l2\n",
    "\n",
    "model5=models.Sequential()\n",
    "\n",
    "model5.add(layers.Conv2D(16, (3, 3),kernel_regularizer=l2(0.001),input_shape=(img_width,img_height,3), activation='relu'))\n",
    "model5.add(layers.MaxPooling2D((2, 2)))\n",
    "\n",
    "model5.add(layers.Conv2D(32, (3, 3),kernel_regularizer=l2(0.001), activation='relu'))\n",
    "model5.add(layers.MaxPooling2D((2, 2)))\n",
    "\n",
    "model5.add(layers.Conv2D(64, (3, 3),kernel_regularizer=l2(0.001), activation='relu'))\n",
    "model5.add(layers.MaxPooling2D((2, 2)))\n",
    "\n",
    "model5.add(layers.Conv2D(128, (3, 3),kernel_regularizer=l2(0.001), activation='relu'))\n",
    "model5.add(layers.MaxPooling2D((2, 2)))\n",
    "\n",
    "model5.add(layers.Conv2D(256, (3, 3),kernel_regularizer=l2(0.001), activation='relu'))\n",
    "model5.add(layers.MaxPooling2D((2, 2)))\n",
    "\n",
    "model5.add(layers.Conv2D(512, (3, 3),kernel_regularizer=l2(0.001), activation='relu'))\n",
    "model5.add(layers.MaxPooling2D((2, 2)))\n",
    "\n",
    "model5.add(layers.Flatten())\n",
    "model5.add(layers.Dense(512, activation='relu'))\n",
    "model5.add(layers.Dense(1, activation='sigmoid'))\n",
    "\n"
   ]
  },
  {
   "cell_type": "code",
   "execution_count": 42,
   "metadata": {},
   "outputs": [
    {
     "name": "stdout",
     "output_type": "stream",
     "text": [
      "_________________________________________________________________\n",
      "Layer (type)                 Output Shape              Param #   \n",
      "=================================================================\n",
      "conv2d_25 (Conv2D)           (None, 478, 638, 16)      448       \n",
      "_________________________________________________________________\n",
      "max_pooling2d_25 (MaxPooling (None, 239, 319, 16)      0         \n",
      "_________________________________________________________________\n",
      "conv2d_26 (Conv2D)           (None, 237, 317, 32)      4640      \n",
      "_________________________________________________________________\n",
      "max_pooling2d_26 (MaxPooling (None, 118, 158, 32)      0         \n",
      "_________________________________________________________________\n",
      "conv2d_27 (Conv2D)           (None, 116, 156, 64)      18496     \n",
      "_________________________________________________________________\n",
      "max_pooling2d_27 (MaxPooling (None, 58, 78, 64)        0         \n",
      "_________________________________________________________________\n",
      "conv2d_28 (Conv2D)           (None, 56, 76, 128)       73856     \n",
      "_________________________________________________________________\n",
      "max_pooling2d_28 (MaxPooling (None, 28, 38, 128)       0         \n",
      "_________________________________________________________________\n",
      "conv2d_29 (Conv2D)           (None, 26, 36, 256)       295168    \n",
      "_________________________________________________________________\n",
      "max_pooling2d_29 (MaxPooling (None, 13, 18, 256)       0         \n",
      "_________________________________________________________________\n",
      "conv2d_30 (Conv2D)           (None, 11, 16, 512)       1180160   \n",
      "_________________________________________________________________\n",
      "max_pooling2d_30 (MaxPooling (None, 5, 8, 512)         0         \n",
      "_________________________________________________________________\n",
      "flatten_5 (Flatten)          (None, 20480)             0         \n",
      "_________________________________________________________________\n",
      "dense_9 (Dense)              (None, 512)               10486272  \n",
      "_________________________________________________________________\n",
      "dense_10 (Dense)             (None, 1)                 513       \n",
      "=================================================================\n",
      "Total params: 12,059,553\n",
      "Trainable params: 12,059,553\n",
      "Non-trainable params: 0\n",
      "_________________________________________________________________\n"
     ]
    }
   ],
   "source": [
    "model5.compile(loss='binary_crossentropy',\n",
    "              optimizer=optimizers.RMSprop(lr=0.0001),\n",
    "              metrics=['acc'])\n",
    "model5.summary()"
   ]
  },
  {
   "cell_type": "code",
   "execution_count": 43,
   "metadata": {},
   "outputs": [
    {
     "name": "stdout",
     "output_type": "stream",
     "text": [
      "Epoch 1/30\n",
      "50/50 [==============================] - 37s 746ms/step - loss: 1.2556 - acc: 0.5480 - val_loss: 1.0858 - val_acc: 0.8320\n",
      "Epoch 2/30\n",
      "50/50 [==============================] - 32s 649ms/step - loss: 1.0103 - acc: 0.7280 - val_loss: 0.8787 - val_acc: 0.7760\n",
      "Epoch 3/30\n",
      "50/50 [==============================] - 33s 659ms/step - loss: 0.8928 - acc: 0.7840 - val_loss: 0.7138 - val_acc: 0.8760\n",
      "Epoch 4/30\n",
      "50/50 [==============================] - 33s 650ms/step - loss: 0.7810 - acc: 0.8440 - val_loss: 0.5330 - val_acc: 0.9720\n",
      "Epoch 5/30\n",
      "50/50 [==============================] - 33s 660ms/step - loss: 0.7107 - acc: 0.8720 - val_loss: 0.4994 - val_acc: 0.9600\n",
      "Epoch 6/30\n",
      "50/50 [==============================] - 33s 658ms/step - loss: 0.6783 - acc: 0.8600 - val_loss: 0.5358 - val_acc: 0.9280\n",
      "Epoch 7/30\n",
      "50/50 [==============================] - 32s 646ms/step - loss: 0.6268 - acc: 0.8840 - val_loss: 0.4622 - val_acc: 0.9760\n",
      "Epoch 8/30\n",
      "50/50 [==============================] - 33s 660ms/step - loss: 0.5774 - acc: 0.9160 - val_loss: 0.4314 - val_acc: 0.9520\n",
      "Epoch 9/30\n",
      "50/50 [==============================] - 33s 651ms/step - loss: 0.6093 - acc: 0.9000 - val_loss: 0.6345 - val_acc: 0.8840\n",
      "Epoch 10/30\n",
      "50/50 [==============================] - 33s 660ms/step - loss: 0.5316 - acc: 0.9160 - val_loss: 0.7631 - val_acc: 0.8360\n",
      "Epoch 11/30\n",
      "50/50 [==============================] - 32s 635ms/step - loss: 0.4883 - acc: 0.9240 - val_loss: 0.7118 - val_acc: 0.8280\n",
      "Epoch 12/30\n",
      "50/50 [==============================] - 33s 665ms/step - loss: 0.5597 - acc: 0.9040 - val_loss: 0.4189 - val_acc: 0.9720\n",
      "Epoch 13/30\n",
      "50/50 [==============================] - 32s 649ms/step - loss: 0.5073 - acc: 0.9040 - val_loss: 0.3946 - val_acc: 0.9800\n",
      "Epoch 14/30\n",
      "50/50 [==============================] - 33s 660ms/step - loss: 0.5187 - acc: 0.9200 - val_loss: 0.4156 - val_acc: 0.9240\n",
      "Epoch 15/30\n",
      "50/50 [==============================] - 33s 657ms/step - loss: 0.4657 - acc: 0.9280 - val_loss: 0.3596 - val_acc: 0.9760\n",
      "Epoch 16/30\n",
      "50/50 [==============================] - 33s 654ms/step - loss: 0.4530 - acc: 0.9320 - val_loss: 0.3566 - val_acc: 0.9760\n",
      "Epoch 17/30\n",
      "50/50 [==============================] - 33s 660ms/step - loss: 0.3846 - acc: 0.9560 - val_loss: 0.3264 - val_acc: 0.9760\n",
      "Epoch 18/30\n",
      "50/50 [==============================] - 33s 651ms/step - loss: 0.4506 - acc: 0.9480 - val_loss: 0.3334 - val_acc: 0.9720\n",
      "Epoch 19/30\n",
      "50/50 [==============================] - 33s 651ms/step - loss: 0.4056 - acc: 0.9520 - val_loss: 0.3017 - val_acc: 1.0000\n",
      "Epoch 20/30\n",
      "50/50 [==============================] - 33s 660ms/step - loss: 0.3811 - acc: 0.9520 - val_loss: 0.3208 - val_acc: 0.9760\n",
      "Epoch 21/30\n",
      "50/50 [==============================] - 33s 659ms/step - loss: 0.3952 - acc: 0.9400 - val_loss: 0.3099 - val_acc: 0.9720\n",
      "Epoch 22/30\n",
      "50/50 [==============================] - 32s 645ms/step - loss: 0.4289 - acc: 0.9320 - val_loss: 0.3539 - val_acc: 0.9560\n",
      "Epoch 23/30\n",
      "50/50 [==============================] - 33s 655ms/step - loss: 0.3662 - acc: 0.9640 - val_loss: 0.2781 - val_acc: 1.0000\n",
      "Epoch 24/30\n",
      "50/50 [==============================] - 32s 648ms/step - loss: 0.4308 - acc: 0.9360 - val_loss: 0.2903 - val_acc: 0.9760\n",
      "Epoch 25/30\n",
      "50/50 [==============================] - 29s 586ms/step - loss: 0.3680 - acc: 0.9640 - val_loss: 0.3743 - val_acc: 0.8960\n",
      "Epoch 26/30\n",
      "50/50 [==============================] - 27s 546ms/step - loss: 0.3627 - acc: 0.9440 - val_loss: 0.3662 - val_acc: 0.9480\n",
      "Epoch 27/30\n",
      "50/50 [==============================] - 30s 603ms/step - loss: 0.4057 - acc: 0.9320 - val_loss: 0.4065 - val_acc: 0.9240\n",
      "Epoch 28/30\n",
      "50/50 [==============================] - 33s 651ms/step - loss: 0.3644 - acc: 0.9440 - val_loss: 0.2795 - val_acc: 0.9760\n",
      "Epoch 29/30\n",
      "50/50 [==============================] - 32s 640ms/step - loss: 0.4459 - acc: 0.9040 - val_loss: 0.2960 - val_acc: 0.9760\n",
      "Epoch 30/30\n",
      "50/50 [==============================] - 32s 646ms/step - loss: 0.3731 - acc: 0.9480 - val_loss: 0.2443 - val_acc: 1.0000\n"
     ]
    }
   ],
   "source": [
    "history = model5.fit_generator(\n",
    "      train_generator,\n",
    "      steps_per_epoch=50,\n",
    "      epochs=second_epochs,\n",
    "      validation_data=validation_generator,\n",
    "      validation_steps=50)"
   ]
  },
  {
   "cell_type": "code",
   "execution_count": 44,
   "metadata": {},
   "outputs": [
    {
     "data": {
      "image/png": "[encoded data removed]",
      "text/plain": [
       "<Figure size 432x288 with 1 Axes>"
      ]
     },
     "metadata": {
      "needs_background": "light"
     },
     "output_type": "display_data"
    },
    {
     "data": {
      "image/png": "[encoded data removed]",
      "text/plain": [
       "<Figure size 432x288 with 1 Axes>"
      ]
     },
     "metadata": {
      "needs_background": "light"
     },
     "output_type": "display_data"
    }
   ],
   "source": [
    "acc = history.history['acc']\n",
    "val_acc = history.history['val_acc']\n",
    "loss = history.history['loss']\n",
    "val_loss = history.history['val_loss']\n",
    "\n",
    "epochs = range(len(acc))\n",
    "\n",
    "plt.plot(epochs, acc, 'bo', label='Training acc')\n",
    "plt.plot(epochs, val_acc, 'b', label='Validation acc')\n",
    "plt.title('Training and validation accuracy')\n",
    "plt.legend()\n",
    "\n",
    "plt.figure()\n",
    "\n",
    "plt.plot(epochs, loss, 'bo', label='Training loss')\n",
    "plt.plot(epochs, val_loss, 'b', label='Validation loss')\n",
    "plt.title('Training and validation loss')\n",
    "plt.legend()\n",
    "\n",
    "plt.show()"
   ]
  },
  {
   "cell_type": "code",
   "execution_count": 1,
   "metadata": {},
   "outputs": [
    {
     "data": {
      "text/plain": [
       "'C:\\\\Users\\\\Dell'"
      ]
     },
     "execution_count": 1,
     "metadata": {},
     "output_type": "execute_result"
    }
   ],
   "source": [
    "pwd"
   ]
  },
  {
   "cell_type": "code",
   "execution_count": null,
   "metadata": {},
   "outputs": [],
   "source": []
  }
 ],
 "metadata": {
  "kernelspec": {
   "display_name": "Python 3",
   "language": "python",
   "name": "python3"
  },
  "language_info": {
   "codemirror_mode": {
    "name": "ipython",
    "version": 3
   },
   "file_extension": ".py",
   "mimetype": "text/x-python",
   "name": "python",
   "nbconvert_exporter": "python",
   "pygments_lexer": "ipython3",
   "version": "3.6.8"
  }
 },
 "nbformat": 4,
 "nbformat_minor": 2
}
